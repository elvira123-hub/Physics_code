{
 "cells": [
  {
   "cell_type": "code",
   "execution_count": 1,
   "metadata": {},
   "outputs": [
    {
     "name": "stdout",
     "output_type": "stream",
     "text": [
      "Using matplotlib backend: nbAgg\n",
      "Populating the interactive namespace from numpy and matplotlib\n"
     ]
    }
   ],
   "source": [
    "%matplotlib notebook\n",
    "%pylab"
   ]
  },
  {
   "cell_type": "code",
   "execution_count": 6,
   "metadata": {},
   "outputs": [
    {
     "name": "stdout",
     "output_type": "stream",
     "text": [
      "      16       0.0000000000000000   9.0045e-01\n",
      "      32       0.0000000000000000   9.0045e-01\n",
      "      64       0.0000000000000000   9.0045e-01\n",
      "     128       0.0000000000000000   9.0045e-01\n",
      "     256       0.0000000000000000   9.0045e-01\n",
      "     512       0.0000000000000000   9.0045e-01\n",
      "    1024       0.0000000000000000   9.0045e-01\n",
      "    2048       0.0000000000000000   9.0045e-01\n",
      "    4096       0.0000000000000000   9.0045e-01\n",
      "    8192       2.1984090327898489   1.2980e+00\n"
     ]
    }
   ],
   "source": [
    "# Graphs for exercise 1\n",
    "\n",
    "\n",
    "#Case1: Step function\n",
    "\n",
    "\n",
    "# epsilon=0.01\n",
    "epsilon=10e-5\n",
    "# Set function\n",
    "def Stepfunct(x):\n",
    "    return np.where(abs(x)<=(epsilon/2),(1/epsilon),0)\n",
    "\n",
    "# Exact Solution\n",
    "x=0.45\n",
    "def Exact(x):\n",
    "    return cos(x)\n",
    "# print(Exact(x))\n",
    "\n",
    "# approximation 𝐼(𝑥)\n",
    "a=-1\n",
    "b=1\n",
    "# =N=np.array([16, 32, 64, 128, 256, 512, 1024])\n",
    "def f(phi):\n",
    "    return Exact(phi)*Stepfunct(phi-x)\n",
    "\n",
    "# Trapezoidale rule\n",
    "def Trap(f,a,b,N):\n",
    "    phi=linspace(a,b,N+1)   # Phi is used here, so define it here\n",
    "    h=(b-a)/N\n",
    "    T=0\n",
    "    for i in range(N):\n",
    "        T+=h/2*(f(phi[i]) + f(phi[i+1]))\n",
    "    return T\n",
    "# Trap(f,-epsilon/2,epsilon/2,N)\n",
    "\n",
    "# trapezoidal rule approximation\n",
    "Nvec=np.array([16, 32, 64, 128, 256, 512, 1024,2048,4096,8192])\n",
    "for i in range(len(Nvec)):\n",
    "#     x=linspace(-1,1,Nvec[i]+1)\n",
    "    # COMMENT : phi only needs to be defined inside Trap\n",
    "    # phi=linspace(a,b,Nvec[i]+1)\n",
    "    \n",
    "    # Fx = Trap(f,-epsilon/2,epsilon/2,Nvec[i])\n",
    "    # COMMENT : Integrate over the interval [-1,1]\n",
    "    Fx = Trap(f,a,b,Nvec[i])\n",
    "#     print(Fx)\n",
    "    print(\"{:8d} {:24.16f} {:12.4e}\".format(Nvec[i],Fx,abs(Fx-cos(0.45))))"
   ]
  },
  {
   "cell_type": "markdown",
   "metadata": {},
   "source": [
    "\n",
    "\n",
    "\n",
    "<hr style=\"border-width:2px;  border-color:black\"></hr>\n",
    "\n",
    "### Comments\n",
    "\n",
    "* To approximate\n",
    "\n",
    "\\begin{equation}\n",
    "\\int_{-\\infty}^{\\infty} f(\\xi) \\delta_{\\varepsilon}(\\xi-x) \\; d\\xi\n",
    "\\end{equation}\n",
    "you need to be  sure that the finite interval of integration $[a,b]$ you choose contains $x$. If the interval doesn't contain $x$, the integral will always evaluate to 0. One suggestion is to use the interval $[a,b] = [-1,1]$.  \n",
    "\n",
    "Using the interval $[-1,1]$ and $\\varepsilon=0.01$, the above code produces\n",
    "\n",
    "      16       0.0000000000000000   9.0045e-01\n",
    "      32       0.0000000000000000   9.0045e-01\n",
    "      64       0.0000000000000000   9.0045e-01\n",
    "     128       1.4048178758752163   5.0437e-01\n",
    "     256       1.4074683935922501   5.0702e-01\n",
    "     512       1.0556039797441716   1.5516e-01\n",
    "    1024       0.8796711016819965   2.0776e-02\n",
    "    2048       0.8794638205516543   2.0983e-02\n",
    "    4096       0.8793601275787105   2.1087e-02\n",
    "    8192       0.9013439427328639   8.9684e-04\n",
    "    \n",
    "Notice that "
   ]
  },
  {
   "cell_type": "code",
   "execution_count": null,
   "metadata": {},
   "outputs": [],
   "source": []
  },
  {
   "cell_type": "code",
   "execution_count": 8,
   "metadata": {},
   "outputs": [
    {
     "name": "stdout",
     "output_type": "stream",
     "text": [
      "      16       0.0000000000000000   9.0045e-01\n",
      "      32       0.0000000000000000   9.0045e-01\n",
      "      64       0.0000000000000000   9.0045e-01\n",
      "     128       0.0000000000000000   9.0045e-01\n",
      "     256       0.0000000000000000   9.0045e-01\n",
      "     512       0.0000000000000000   9.0045e-01\n",
      "    1024       0.0000000000000000   9.0045e-01\n",
      "    2048       0.0000000000000000   9.0045e-01\n",
      "    4096       0.0000000000000000   9.0045e-01\n",
      "    8192       0.1030504234110479   7.9740e-01\n"
     ]
    }
   ],
   "source": [
    "# Graphs for exercise 1\n",
    "\n",
    "\n",
    "#Case2: Hat function\n",
    "\n",
    "\n",
    "# epsilon=0.01\n",
    "epsilon=10e-5\n",
    "\n",
    "# Set function\n",
    "def Hatfunct(x):\n",
    "    return where(abs(x)<=(epsilon/2),(2/epsilon)*(1-(abs(2*(x))/epsilon)),0)\n",
    "\n",
    "# Exact Solution\n",
    "x=0.45\n",
    "def Exact(x):\n",
    "    return cos(x)\n",
    "# print(Exact(x))\n",
    "\n",
    "# approximation 𝐼(𝑥)\n",
    "a=-1\n",
    "b=1\n",
    "# Nvec=np.array([16, 32, 64, 128, 256, 512, 1024])\n",
    "def g(phi):\n",
    "    return Exact(phi)*Hatfunct(phi-x)\n",
    "\n",
    "# Trapezoidale rule\n",
    "def Trap(g,a,b,N):\n",
    "    phi=linspace(a,b,N+1)   # Phi is used here, so define it here\n",
    "    h=(b-a)/N\n",
    "    T=0\n",
    "    for i in range(N):\n",
    "        T+=h/2*(g(phi[i]) + g(phi[i+1]))\n",
    "    return T\n",
    "\n",
    "Nvec=np.array([16, 32, 64, 128, 256, 512, 1024,2048,4096,8192])\n",
    "for i in range(len(Nvec)):\n",
    "#     x=linspace(-1,1,Nvec[i]+1)\n",
    "    # COMMENT : phi only needs to be defined inside Trap\n",
    "    # phi=linspace(a,b,Nvec[i]+1)\n",
    "    \n",
    "    # Fx = Trap(f,-epsilon/2,epsilon/2,Nvec[i])\n",
    "    # COMMENT : Integrate over the interval [-1,1]\n",
    "    Fx = Trap(g,a,b,Nvec[i])\n",
    "#     print(Fx)\n",
    "    print(\"{:8d} {:24.16f} {:12.4e}\".format(Nvec[i],Fx,abs(Fx-cos(0.45))))\n",
    "\n",
    "# # trapezoidal rule approximation\n",
    "# Nvec=np.array([16, 32, 64, 128, 256, 512, 1024])\n",
    "# for i in range(len(Nvec)):\n",
    "# #     x=linspace(-1,1,Nvec[i]+1)\n",
    "# #     phi=linspace(a,b,Nvec[i]+1)\n",
    "#     Fx = Trap(g,a,b,Nvec[i])\n",
    "# #     print(Fx)\n",
    "#     print(\"{:8d} {:24.16f} {:12.4e}\".format(Nvec[i],Fx,abs(Fx-cos(0.45))))"
   ]
  },
  {
   "cell_type": "code",
   "execution_count": 12,
   "metadata": {},
   "outputs": [
    {
     "name": "stdout",
     "output_type": "stream",
     "text": [
      "      16       0.0059763888586577   8.9447e-01\n",
      "      32       1.0835949550251456   1.8315e-01\n",
      "      64       0.8751275615364110   2.5320e-02\n",
      "     128       0.9003571088056684   8.9994e-05\n",
      "     256       0.9003570621445269   9.0040e-05\n",
      "     512       0.9003570621445272   9.0040e-05\n",
      "    1024       0.9003570621445272   9.0040e-05\n",
      "    2048       0.9003570621445278   9.0040e-05\n",
      "    4096       0.9003570621445266   9.0040e-05\n",
      "    8192       0.9003570621445270   9.0040e-05\n"
     ]
    }
   ],
   "source": [
    "# Graphs for exercise 1\n",
    "\n",
    "\n",
    "#Case3: Heat Kernel\n",
    "\n",
    "\n",
    "# epsilon=0.01\n",
    "epsilon=10e-5\n",
    "\n",
    "# Set function\n",
    "def Heatkernel(x):\n",
    "    return (1/sqrt(4*np.pi*epsilon)*exp(-x**2/(4*epsilon)))\n",
    "\n",
    "# Exact Solution\n",
    "x=0.45\n",
    "def Exact(x):\n",
    "    return cos(x)\n",
    "# print(Exact(x))\n",
    "\n",
    "# approximation 𝐼(𝑥)\n",
    "a=-1\n",
    "b=1\n",
    "# Nvec=np.array([16, 32, 64, 128, 256, 512, 1024])\n",
    "def H(phi):\n",
    "    return Exact(phi)*Heatkernel(phi-x)\n",
    "\n",
    "# Trapezoidale rule\n",
    "def Trap(H,a,b,N):\n",
    "    phi=linspace(a,b,N+1)   # Phi is used here, so define it here\n",
    "    h=(b-a)/N\n",
    "    T=0\n",
    "    for i in range(N):\n",
    "        T+=h/2*(H(phi[i]) + H(phi[i+1]))\n",
    "    return T\n",
    "\n",
    "Nvec=np.array([16, 32, 64, 128, 256, 512, 1024,2048,4096,8192])\n",
    "for i in range(len(Nvec)):\n",
    "#     x=linspace(-1,1,Nvec[i]+1)\n",
    "    # COMMENT : phi only needs to be defined inside Trap\n",
    "    # phi=linspace(a,b,Nvec[i]+1)\n",
    "    \n",
    "    # Fx = Trap(f,-epsilon/2,epsilon/2,Nvec[i])\n",
    "    # COMMENT : Integrate over the interval [-1,1]\n",
    "    Fx = Trap(H,a,b,Nvec[i])\n",
    "#     print(Fx)\n",
    "    print(\"{:8d} {:24.16f} {:12.4e}\".format(Nvec[i],Fx,abs(Fx-cos(0.45))))\n",
    "\n",
    "\n",
    "\n",
    "# # trapezoidal rule approximation\n",
    "# Nvec=np.array([16, 32, 64, 128, 256, 512, 1024])\n",
    "# for i in range(len(Nvec)):\n",
    "# #     x=linspace(-1,1,Nvec[i]+1)\n",
    "#     phi=linspace(a,b,Nvec[i]+1)\n",
    "#     Fx = Trap(H,-epsilon/2,epsilon/2,Nvec[i])\n",
    "# #     print(Fx)\n",
    "#     print(\"{:8d} {:24.16f} {:12.4e}\".format(Nvec[i],Fx,abs(Fx-cos(0.45))))"
   ]
  },
  {
   "cell_type": "code",
   "execution_count": 7,
   "metadata": {},
   "outputs": [],
   "source": [
    "x=0.45\n",
    "def Exact(x):\n",
    "    return cos(x)"
   ]
  },
  {
   "cell_type": "code",
   "execution_count": 9,
   "metadata": {},
   "outputs": [
    {
     "name": "stdout",
     "output_type": "stream",
     "text": [
      "0.9004471023526769\n"
     ]
    }
   ],
   "source": [
    "print(Exact(x))"
   ]
  },
  {
   "cell_type": "code",
   "execution_count": null,
   "metadata": {},
   "outputs": [],
   "source": []
  }
 ],
 "metadata": {
  "kernelspec": {
   "display_name": "Python 3",
   "language": "python",
   "name": "python3"
  },
  "language_info": {
   "codemirror_mode": {
    "name": "ipython",
    "version": 3
   },
   "file_extension": ".py",
   "mimetype": "text/x-python",
   "name": "python",
   "nbconvert_exporter": "python",
   "pygments_lexer": "ipython3",
   "version": "3.8.3"
  }
 },
 "nbformat": 4,
 "nbformat_minor": 4
}
